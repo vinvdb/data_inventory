{
 "cells": [
  {
   "cell_type": "code",
   "id": "initial_id",
   "metadata": {
    "collapsed": true,
    "ExecuteTime": {
     "end_time": "2024-11-15T07:27:38.546751Z",
     "start_time": "2024-11-15T07:27:37.349232Z"
    }
   },
   "source": [
    "import warnings\n",
    "import os\n",
    "from pathlib import Path\n",
    "\n",
    "import pandas as pd\n",
    "from google.cloud.bigquery.client import Client as BigQueryClient\n",
    "\n",
    "from utils import *\n",
    "\n",
    "warnings.filterwarnings(\"ignore\", category=UserWarning)\n",
    "\n",
    "big_query_client = BigQueryClient()"
   ],
   "outputs": [],
   "execution_count": 1
  },
  {
   "metadata": {},
   "cell_type": "markdown",
   "source": "# MOD train",
   "id": "edcd7a053ab4e803"
  },
  {
   "metadata": {
    "ExecuteTime": {
     "end_time": "2024-11-15T07:27:42.139881Z",
     "start_time": "2024-11-15T07:27:39.785828Z"
    }
   },
   "cell_type": "code",
   "source": [
    "mod_train_version = \"0.7.0\"\n",
    "\n",
    "query = f\"\"\"\n",
    "    SELECT\n",
    "        *\n",
    "    FROM\n",
    "        `noimos-core-axach-development.mod.train` AS train\n",
    "\"\"\"\n",
    "\n",
    "query_job = big_query_client.query(query)\n",
    "mod_train_table = query_job.to_dataframe()\n",
    "\n",
    "mod_train_rids = mod_train_table[mod_train_table[\"version\"] == mod_train_version][\"informationRequestId\"].unique()"
   ],
   "id": "9bfb4f5bcb1fb945",
   "outputs": [],
   "execution_count": 2
  },
  {
   "metadata": {},
   "cell_type": "markdown",
   "source": "# MOD test",
   "id": "16efdc31f1a485a1"
  },
  {
   "metadata": {
    "ExecuteTime": {
     "end_time": "2024-11-15T07:27:44.223024Z",
     "start_time": "2024-11-15T07:27:43.239075Z"
    }
   },
   "cell_type": "code",
   "source": [
    "mod_test_version = \"0.7.0\"\n",
    "\n",
    "query = f\"\"\"\n",
    "    SELECT\n",
    "        *\n",
    "    FROM\n",
    "        `noimos-core-axach-development.mod.test` AS train\n",
    "\"\"\"\n",
    "\n",
    "query_job = big_query_client.query(query)\n",
    "mod_test_table = query_job.to_dataframe()\n",
    "\n",
    "mod_test_rids = mod_test_table[mod_test_table[\"version\"] == mod_test_version][\"informationRequestId\"].unique()"
   ],
   "id": "7f34e1bc0000cca7",
   "outputs": [],
   "execution_count": 3
  },
  {
   "metadata": {},
   "cell_type": "markdown",
   "source": "# Damage train / test",
   "id": "2b5b29007284761d"
  },
  {
   "metadata": {
    "ExecuteTime": {
     "end_time": "2024-11-15T07:27:47.012861Z",
     "start_time": "2024-11-15T07:27:45.518245Z"
    }
   },
   "cell_type": "code",
   "source": [
    "bucket_name = \"noimos-data-lake-dataloop\"\n",
    "\n",
    "\n",
    "## Get all images in that bucket \n",
    "folder_name = \"damage_workflow_batch_7\"\n",
    "\n",
    "storage_client = storage.Client()\n",
    "\n",
    "# Get the bucket\n",
    "bucket = storage_client.bucket(bucket_name)\n",
    "\n",
    "# List the blobs in the folder\n",
    "blobs = bucket.list_blobs(prefix=folder_name + '/')\n",
    "\n",
    "file_paths = [blob.name for blob in blobs]\n",
    "\n",
    "jpeg_files = filter_jpeg_files_direct_children(file_paths, folder_name)\n",
    "\n",
    "image_names = [os.path.basename(file) for file in jpeg_files]\n",
    "\n",
    "\n"
   ],
   "id": "b335f8ad48efb110",
   "outputs": [],
   "execution_count": 4
  },
  {
   "metadata": {
    "ExecuteTime": {
     "end_time": "2024-11-15T07:28:54.561873Z",
     "start_time": "2024-11-15T07:27:48.651313Z"
    }
   },
   "cell_type": "code",
   "source": [
    "## Get the information request ids corresponding to those images\n",
    "bq_client = BigQueryClient()\n",
    "\n",
    "query = f\"\"\"\n",
    "        SELECT DISTINCT\n",
    "            app_case.id AS case_id,\n",
    "            attachment.informationRequestId AS request_id,\n",
    "            attachment.filename AS image_file_name\n",
    "        FROM `noimos-data-lake-exp.prod.int_app_attachment` AS attachment\n",
    "        INNER JOIN `noimos-data-lake-exp.prod.int_app_case` AS app_case\n",
    "        ON attachment.informationrequestid = app_case.defaultinformationrequestid \n",
    "        WHERE NOT ENDS_WITH(attachment.filename, \".pdf\") AND NOT ENDS_WITH(attachment.filename, \".xml\");\n",
    "\"\"\"\n",
    "\n",
    "query_job = bq_client.query(query=query, project=\"noimos-data-lake-exp\")\n",
    "rows = list(query_job.result())\n",
    "image_to_case = pd.DataFrame([dict(row) for row in rows])"
   ],
   "id": "2e992625c77b6f0e",
   "outputs": [],
   "execution_count": 5
  },
  {
   "metadata": {
    "ExecuteTime": {
     "end_time": "2024-11-15T08:48:38.418190Z",
     "start_time": "2024-11-15T08:48:38.412912Z"
    }
   },
   "cell_type": "code",
   "source": "Path(image_names[0])",
   "id": "8a1d2472247605ba",
   "outputs": [
    {
     "data": {
      "text/plain": [
       "PosixPath('-2pO-ccaFYS6stJsODXIy.jpeg')"
      ]
     },
     "execution_count": 8,
     "metadata": {},
     "output_type": "execute_result"
    }
   ],
   "execution_count": 8
  },
  {
   "metadata": {
    "ExecuteTime": {
     "end_time": "2024-11-15T07:29:02.149461Z",
     "start_time": "2024-11-15T07:29:01.965023Z"
    }
   },
   "cell_type": "code",
   "source": "image_to_case[image_to_case[\"image_file_name\"].str.contains(rf'{Path(image_names[0]).stem}\\.[a-zA-Z0-9]+$', regex=True) ]",
   "id": "7a96e352d6e5120d",
   "outputs": [
    {
     "data": {
      "text/plain": [
       "Empty DataFrame\n",
       "Columns: [case_id, request_id, image_file_name]\n",
       "Index: []"
      ],
      "text/html": [
       "<div>\n",
       "<style scoped>\n",
       "    .dataframe tbody tr th:only-of-type {\n",
       "        vertical-align: middle;\n",
       "    }\n",
       "\n",
       "    .dataframe tbody tr th {\n",
       "        vertical-align: top;\n",
       "    }\n",
       "\n",
       "    .dataframe thead th {\n",
       "        text-align: right;\n",
       "    }\n",
       "</style>\n",
       "<table border=\"1\" class=\"dataframe\">\n",
       "  <thead>\n",
       "    <tr style=\"text-align: right;\">\n",
       "      <th></th>\n",
       "      <th>case_id</th>\n",
       "      <th>request_id</th>\n",
       "      <th>image_file_name</th>\n",
       "    </tr>\n",
       "  </thead>\n",
       "  <tbody>\n",
       "  </tbody>\n",
       "</table>\n",
       "</div>"
      ]
     },
     "execution_count": 6,
     "metadata": {},
     "output_type": "execute_result"
    }
   ],
   "execution_count": 6
  },
  {
   "metadata": {},
   "cell_type": "markdown",
   "source": "# Parts train/test",
   "id": "48fed521c2a9140d"
  },
  {
   "metadata": {
    "ExecuteTime": {
     "end_time": "2024-11-14T16:29:01.017559Z",
     "start_time": "2024-11-14T16:29:00.978116Z"
    }
   },
   "cell_type": "code",
   "source": "",
   "id": "13b6fcb196430b84",
   "outputs": [
    {
     "ename": "NameError",
     "evalue": "name 'np' is not defined",
     "output_type": "error",
     "traceback": [
      "\u001B[0;31m---------------------------------------------------------------------------\u001B[0m",
      "\u001B[0;31mNameError\u001B[0m                                 Traceback (most recent call last)",
      "Cell \u001B[0;32mIn[7], line 1\u001B[0m\n\u001B[0;32m----> 1\u001B[0m \u001B[43mnp\u001B[49m\u001B[38;5;241m.\u001B[39munique([\u001B[38;5;28mlen\u001B[39m(path) \u001B[38;5;28;01mfor\u001B[39;00m path \u001B[38;5;129;01min\u001B[39;00m jpeg_files])\n",
      "\u001B[0;31mNameError\u001B[0m: name 'np' is not defined"
     ]
    }
   ],
   "execution_count": 7
  }
 ],
 "metadata": {
  "kernelspec": {
   "display_name": "Python 3",
   "language": "python",
   "name": "python3"
  },
  "language_info": {
   "codemirror_mode": {
    "name": "ipython",
    "version": 2
   },
   "file_extension": ".py",
   "mimetype": "text/x-python",
   "name": "python",
   "nbconvert_exporter": "python",
   "pygments_lexer": "ipython2",
   "version": "2.7.6"
  }
 },
 "nbformat": 4,
 "nbformat_minor": 5
}
