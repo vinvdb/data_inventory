{
 "cells": [
  {
   "cell_type": "code",
   "id": "initial_id",
   "metadata": {
    "collapsed": true,
    "ExecuteTime": {
     "end_time": "2024-11-19T13:51:02.928765Z",
     "start_time": "2024-11-19T13:50:55.777045Z"
    }
   },
   "source": [
    "import warnings\n",
    "import os\n",
    "from pathlib import Path\n",
    "from datetime import date, datetime\n",
    "from random import sample\n",
    "from zoneinfo import ZoneInfo\n",
    "import numpy as np\n",
    "import pandas as pd\n",
    "\n",
    "from google.cloud.bigquery.client import Client as BigQueryClient\n",
    "\n",
    "from utils import *\n",
    "\n",
    "warnings.filterwarnings(\"ignore\", category=UserWarning)\n",
    "\n",
    "big_query_client = BigQueryClient()\n"
   ],
   "outputs": [],
   "execution_count": 60
  },
  {
   "metadata": {
    "ExecuteTime": {
     "end_time": "2024-11-19T13:51:02.934363Z",
     "start_time": "2024-11-19T13:51:02.931659Z"
    }
   },
   "cell_type": "code",
   "source": [
    "n_samples = 100\n",
    "seed = 0\n",
    "# For our sample date, we take the date halfway between the\n",
    "# two latest expert sample dates to ensure separation and currency\n",
    "subsystem_sample_date = date(2024, 10, 23)\n",
    "\n",
    "\n",
    "expert_sample_dates = [\n",
    "    (2024, 6, 4),\n",
    "    (2024, 6, 10),\n",
    "    (2024, 7, 4),\n",
    "    (2024, 7, 8),\n",
    "    (2024, 7, 15),\n",
    "    (2024, 8, 16),\n",
    "    (2024, 8, 17),\n",
    "    (2024, 8, 18),\n",
    "    (2024, 8, 19),\n",
    "    (2024, 9, 9),\n",
    "    (2024, 9, 16),\n",
    "    (2024, 9, 23),\n",
    "    (2024, 9, 26),\n",
    "    (2024, 10, 17),\n",
    "    (2024, 10, 29),\n",
    "]\n",
    "\n",
    "expert_sample_dates = [date(*sample_date) for sample_date in expert_sample_dates]\n",
    "\n"
   ],
   "id": "52c1345f30a2cbba",
   "outputs": [],
   "execution_count": 61
  },
  {
   "metadata": {},
   "cell_type": "markdown",
   "source": "### Get all irids on subsystem sample date",
   "id": "ec2cd49ef6e8190"
  },
  {
   "metadata": {},
   "cell_type": "markdown",
   "source": "### Add case id to each irid",
   "id": "9e37bda33efcf652"
  },
  {
   "metadata": {
    "ExecuteTime": {
     "end_time": "2024-11-19T13:52:02.774370Z",
     "start_time": "2024-11-19T13:51:02.948594Z"
    }
   },
   "cell_type": "code",
   "source": [
    "# Get irid-to-case-id table\n",
    "case_to_irid_query = f\"\"\"\n",
    "        SELECT DISTINCT\n",
    "            app_case.id AS case_id,\n",
    "            attachment.informationRequestId AS request_id,\n",
    "            attachment.filename AS image_file_name\n",
    "        FROM `noimos-data-lake-exp.prod.int_app_attachment` AS attachment\n",
    "        INNER JOIN `noimos-data-lake-exp.prod.int_app_case` AS app_case\n",
    "        ON attachment.informationrequestid = app_case.defaultinformationrequestid \n",
    "        WHERE NOT ENDS_WITH(attachment.filename, \".pdf\") AND NOT ENDS_WITH(attachment.filename, \".xml\");\n",
    "\"\"\"\n",
    "\n",
    "case_to_irid_table = query_bigquery(query=case_to_irid_query, big_query_client=big_query_client)\n",
    "case_to_irid_table = case_to_irid_table[[\"case_id\", \"request_id\"]].drop_duplicates()\n",
    "\n"
   ],
   "id": "4f33f0b17a63e7b8",
   "outputs": [],
   "execution_count": 62
  },
  {
   "metadata": {
    "ExecuteTime": {
     "end_time": "2024-11-19T13:52:06.081828Z",
     "start_time": "2024-11-19T13:52:02.787241Z"
    }
   },
   "cell_type": "code",
   "source": [
    "irids_by_date = query_bigquery(\n",
    "    big_query_client=big_query_client,\n",
    "    query=\"SELECT informationRequestId, timestamp FROM `noimos-core-axach-prod.mod.workflow_output`\"\n",
    ")\n",
    "\n",
    "timezone = ZoneInfo('UTC')\n",
    "start_of_day = datetime.combine(subsystem_sample_date, datetime.min.time()).replace(tzinfo=timezone)\n",
    "end_of_day = datetime.combine(subsystem_sample_date, datetime.max.time()).replace(tzinfo=timezone)\n",
    "irids_on_subsystem_sample_date = irids_by_date[(irids_by_date['timestamp'] >= start_of_day) & (irids_by_date['timestamp'] <= end_of_day)]\n",
    "\n",
    "# Join case id info to sampled irids\n",
    "sampled_irids = pd.merge(irids_on_subsystem_sample_date, case_to_irid_table, left_on=\"informationRequestId\", right_on=\"request_id\", how=\"inner\")\n",
    "sampled_irids = sampled_irids[[\"informationRequestId\", \"timestamp\", \"case_id\"]]\n"
   ],
   "id": "eee574c8da953b74",
   "outputs": [],
   "execution_count": 63
  },
  {
   "metadata": {},
   "cell_type": "markdown",
   "source": "# Blacklisting",
   "id": "8f2da6b220dafe03"
  },
  {
   "metadata": {
    "ExecuteTime": {
     "end_time": "2024-11-19T13:52:06.097897Z",
     "start_time": "2024-11-19T13:52:06.095887Z"
    }
   },
   "cell_type": "code",
   "source": "blacklist_irids = pd.DataFrame(columns=[\"informationRequestId\", \"timestamp\"])",
   "id": "f3d787a213635a55",
   "outputs": [],
   "execution_count": 64
  },
  {
   "metadata": {},
   "cell_type": "markdown",
   "source": "### Get case ids on expert sample dates for blacklisting",
   "id": "b6d071d15eea39b0"
  },
  {
   "metadata": {
    "ExecuteTime": {
     "end_time": "2024-11-19T13:52:06.119640Z",
     "start_time": "2024-11-19T13:52:06.111862Z"
    }
   },
   "cell_type": "code",
   "source": [
    "for date in expert_sample_dates:\n",
    "    start_of_day = datetime.combine(date, datetime.min.time()).replace(tzinfo=timezone)\n",
    "    end_of_day = datetime.combine(date, datetime.max.time()).replace(tzinfo=timezone)\n",
    "    irids_on_date = irids_by_date[(irids_by_date['timestamp'] >= start_of_day) & (irids_by_date['timestamp'] <= end_of_day)]\n",
    "    blacklist_irids = pd.concat([blacklist_irids, irids_on_date], axis=0)"
   ],
   "id": "8f357c1dbfb1a8bb",
   "outputs": [
    {
     "name": "stderr",
     "output_type": "stream",
     "text": [
      "/var/folders/w0/8zlmx1n52wd7_p8tby7fk43m0000gn/T/ipykernel_2268/2339720872.py:5: FutureWarning: The behavior of DataFrame concatenation with empty or all-NA entries is deprecated. In a future version, this will no longer exclude empty or all-NA columns when determining the result dtypes. To retain the old behavior, exclude the relevant entries before the concat operation.\n",
      "  blacklist_irids = pd.concat([blacklist_irids, irids_on_date], axis=0)\n"
     ]
    }
   ],
   "execution_count": 65
  },
  {
   "metadata": {},
   "cell_type": "markdown",
   "source": "### Get case ids on mod_gt for blacklisting",
   "id": "aa7c418f3fba75c1"
  },
  {
   "metadata": {
    "ExecuteTime": {
     "end_time": "2024-11-19T13:52:06.135852Z",
     "start_time": "2024-11-19T13:52:06.134631Z"
    }
   },
   "cell_type": "code",
   "source": "",
   "id": "a3bc3673de8bb668",
   "outputs": [],
   "execution_count": null
  },
  {
   "metadata": {},
   "cell_type": "markdown",
   "source": "### Get case ids on mod_train/mod_test for black listing",
   "id": "19034a83cea575b2"
  },
  {
   "metadata": {
    "ExecuteTime": {
     "end_time": "2024-11-19T13:52:09.629671Z",
     "start_time": "2024-11-19T13:52:06.150840Z"
    }
   },
   "cell_type": "code",
   "source": [
    "# Get mod_train irids\n",
    "mod_train_version = \"0.7.0\"\n",
    "\n",
    "query = f\"\"\"\n",
    "    SELECT\n",
    "        *\n",
    "    FROM\n",
    "        `noimos-core-axach-development.mod.train` AS train\n",
    "\"\"\"\n",
    "\n",
    "query_job = big_query_client.query(query)\n",
    "mod_train_table = query_job.to_dataframe()\n",
    "\n",
    "mod_train_irids = mod_train_table[mod_train_table[\"version\"] == mod_train_version][\"informationRequestId\"].unique()\n",
    "\n",
    "# Get mod_test irids\n",
    "mod_test_version = \"0.7.0\"\n",
    "\n",
    "query = f\"\"\"\n",
    "    SELECT\n",
    "        *\n",
    "    FROM\n",
    "        `noimos-core-axach-development.mod.test` AS test\n",
    "\"\"\"\n",
    "\n",
    "query_job = big_query_client.query(query)\n",
    "mod_test_table = query_job.to_dataframe()\n",
    "\n",
    "mod_test_irids = mod_test_table[mod_test_table[\"version\"] == mod_test_version][\"informationRequestId\"].unique()\n",
    "\n",
    "mod_train_test_irids = np.concatenate((mod_train_irids, mod_test_irids))\n",
    "mod_train_test_irids = pd.DataFrame({\"informationRequestId\": mod_train_test_irids, \"timestamp\": [np.nan] * len(mod_train_test_irids)})\n",
    "\n",
    "blacklist_irids = pd.concat([blacklist_irids, mod_train_test_irids], axis=0)\n",
    "\n",
    "pass"
   ],
   "id": "233f51832847e272",
   "outputs": [
    {
     "name": "stderr",
     "output_type": "stream",
     "text": [
      "/var/folders/w0/8zlmx1n52wd7_p8tby7fk43m0000gn/T/ipykernel_2268/2250310055.py:34: FutureWarning: The behavior of DataFrame concatenation with empty or all-NA entries is deprecated. In a future version, this will no longer exclude empty or all-NA columns when determining the result dtypes. To retain the old behavior, exclude the relevant entries before the concat operation.\n",
      "  blacklist_irids = pd.concat([blacklist_irids, mod_train_test_irids], axis=0)\n"
     ]
    }
   ],
   "execution_count": 66
  },
  {
   "metadata": {
    "ExecuteTime": {
     "end_time": "2024-11-19T13:52:09.694506Z",
     "start_time": "2024-11-19T13:52:09.692513Z"
    }
   },
   "cell_type": "code",
   "source": [
    "\"\"\"mod_train_test_irids[\"on_expert_sample_date\"] = None\n",
    "\n",
    "for irid in mod_train_test_irids[\"informationRequestId\"]:\n",
    "    mod_train_test_irids[\"on_expert_sample_date\"] = irid in blacklist_irids[\"informationRequestId\"]\n",
    "    \n",
    "pass\"\"\""
   ],
   "id": "382f3c5573273bc2",
   "outputs": [
    {
     "data": {
      "text/plain": [
       "'mod_train_test_irids[\"on_expert_sample_date\"] = None\\n\\nfor irid in mod_train_test_irids[\"informationRequestId\"]:\\n    mod_train_test_irids[\"on_expert_sample_date\"] = irid in blacklist_irids[\"informationRequestId\"]\\n    \\npass'"
      ]
     },
     "execution_count": 67,
     "metadata": {},
     "output_type": "execute_result"
    }
   ],
   "execution_count": 67
  },
  {
   "metadata": {
    "ExecuteTime": {
     "end_time": "2024-11-19T13:52:09.778944Z",
     "start_time": "2024-11-19T13:52:09.766860Z"
    }
   },
   "cell_type": "code",
   "source": [
    "# Add case id to blacklist irids\n",
    "blacklist_irids = pd.merge(blacklist_irids, case_to_irid_table, how=\"left\", left_on=\"informationRequestId\", right_on=\"request_id\")\n",
    "blacklist_irids = blacklist_irids[[\"informationRequestId\", \"timestamp\", \"case_id\"]]"
   ],
   "id": "bc6a3503bc6375e5",
   "outputs": [],
   "execution_count": 68
  },
  {
   "metadata": {
    "ExecuteTime": {
     "end_time": "2024-11-19T13:52:09.820228Z",
     "start_time": "2024-11-19T13:52:09.794413Z"
    }
   },
   "cell_type": "code",
   "source": [
    "sampled_irids[\"case_blacklisted\"] = None\n",
    "for i, row in sampled_irids.iterrows():\n",
    "    sampled_irids.loc[i, \"case_blacklisted\"] = row[\"case_blacklisted\"] in blacklist_irids[\"case_id\"]\n",
    "    \n",
    "pass"
   ],
   "id": "8ea43cbcfd9829b1",
   "outputs": [],
   "execution_count": 69
  },
  {
   "metadata": {
    "ExecuteTime": {
     "end_time": "2024-11-19T13:52:09.835620Z",
     "start_time": "2024-11-19T13:52:09.833851Z"
    }
   },
   "cell_type": "code",
   "source": "sampled_irids = sampled_irids.sort_values(by=\"timestamp\", ascending=True)\n",
   "id": "1e813c36e1d40867",
   "outputs": [],
   "execution_count": 70
  },
  {
   "metadata": {},
   "cell_type": "markdown",
   "source": "### Get heuristic/llm/xml, language, kva provider",
   "id": "c571519e17e3843"
  },
  {
   "metadata": {
    "ExecuteTime": {
     "end_time": "2024-11-19T13:52:18.580914Z",
     "start_time": "2024-11-19T13:52:09.849182Z"
    }
   },
   "cell_type": "code",
   "source": [
    "line_item_query = f\"\"\"\n",
    "    SELECT DISTINCT\n",
    "        informationRequestId, kva.language, kva.provider\n",
    "    FROM\n",
    "      `noimos-core-axach-prod.mod.line_item_classification`,\n",
    "      UNNEST(classifiedKva) as kva\n",
    "\"\"\"\n",
    "\n",
    "line_item_table = query_bigquery(query=line_item_query, big_query_client=big_query_client)\n",
    "\n",
    "kva_query = f\"\"\"\n",
    "    SELECT informationRequestId, sourceFilePath FROM `noimos-core-axach-prod.mod.kva`\n",
    "\"\"\"\n",
    "\n",
    "kva_table = query_bigquery(query=kva_query, big_query_client=big_query_client)\n",
    "\n",
    "workflow_output_query = f\"\"\"\n",
    "    SELECT informationRequestId, llmPath FROM `noimos-core-axach-prod.mod.workflow_output`\n",
    "\"\"\"\n",
    "\n",
    "workflow_output_table = query_bigquery(query=workflow_output_query, big_query_client=big_query_client)\n",
    "\n",
    "def get_file_type(filename):\n",
    "    if filename.endswith('.pdf'):\n",
    "        return 'pdf'\n",
    "    elif filename.endswith('.xml'):\n",
    "        return 'xml'\n",
    "    else:\n",
    "        return 'unknown'\n",
    "\n",
    "kva_table[\"kva_file_type\"] = kva_table['sourceFilePath'].apply(get_file_type)\n",
    "\n",
    "sampled_irids = pd.merge(left=sampled_irids, right=line_item_table, on=\"informationRequestId\", how=\"left\")\n",
    "sampled_irids = pd.merge(left=sampled_irids, right=workflow_output_table, on=\"informationRequestId\", how=\"left\")\n",
    "sampled_irids = pd.merge(left=sampled_irids, right=kva_table, on=\"informationRequestId\", how=\"left\")\n"
   ],
   "id": "22959fdcbddbf68d",
   "outputs": [],
   "execution_count": 71
  },
  {
   "metadata": {},
   "cell_type": "markdown",
   "source": "### Sample",
   "id": "fd8dd0dc7fca4e99"
  },
  {
   "metadata": {
    "ExecuteTime": {
     "end_time": "2024-11-19T13:52:18.599128Z",
     "start_time": "2024-11-19T13:52:18.596593Z"
    }
   },
   "cell_type": "code",
   "source": [
    "sampled_irids = sampled_irids[sampled_irids[\"case_blacklisted\"] == False]\n",
    "sampled_irids = sampled_irids.drop_duplicates(subset=\"case_id\", keep=\"first\")\n",
    "final_sampled_irids = sampled_irids.sample(n=n_samples, random_state=1)"
   ],
   "id": "8f9af60aacf6aaf",
   "outputs": [],
   "execution_count": 72
  },
  {
   "metadata": {},
   "cell_type": "markdown",
   "source": "### Get llm path info for sampled irids",
   "id": "d8207edfd918b1d1"
  },
  {
   "metadata": {
    "jupyter": {
     "is_executing": true
    },
    "ExecuteTime": {
     "start_time": "2024-11-19T13:52:38.537806Z"
    }
   },
   "cell_type": "code",
   "source": [
    "final_sampled_irids[\"llm_path\"] = None\n",
    "\n",
    "\n",
    "\n",
    "\n",
    "for i, row in final_sampled_irids.iterrows():\n",
    "    pass"
   ],
   "id": "862bbb2cf0e3cdab",
   "outputs": [],
   "execution_count": null
  },
  {
   "metadata": {},
   "cell_type": "markdown",
   "source": "### Calculate global dataset statistics",
   "id": "ada72a34eb75041c"
  },
  {
   "metadata": {
    "ExecuteTime": {
     "end_time": "2024-11-19T13:52:18.644185Z",
     "start_time": "2024-11-19T13:52:18.634631Z"
    }
   },
   "cell_type": "code",
   "source": [
    "statistics_global = {\n",
    "    \"language\": {\n",
    "        \"de\": (line_item_table[\"language\"] == \"de\").sum() / len(line_item_table),\n",
    "        \"fr\": (line_item_table[\"language\"] == \"fr\").sum() / len(line_item_table),\n",
    "        None: (line_item_table[\"language\"].isna()).sum() / len(line_item_table),\n",
    "    },\n",
    "    \"provider\": {\n",
    "        \"autoidat\": (line_item_table[\"provider\"] == \"autoidat\").sum() / len(line_item_table),\n",
    "        \"audatex\": (line_item_table[\"provider\"] == \"audatex\").sum() / len(line_item_table),\n",
    "        \"other\": ((line_item_table[\"provider\"] != \"audatex\") & (line_item_table[\"provider\"] != \"autoidat\")).sum() / len(line_item_table),\n",
    "    },\n",
    "    \"kva_file_type\": {\n",
    "        \"pdf\": (kva_table[\"kva_file_type\"] == \"pdf\").sum() / len(kva_table),\n",
    "        \"xml\": (kva_table[\"kva_file_type\"] == \"xml\").sum() / len(kva_table),\n",
    "        \"other\": (kva_table[\"kva_file_type\"] == \"unknown\").sum() / len(kva_table),\n",
    "    }\n",
    "}"
   ],
   "id": "d1b5cefc6bdf8491",
   "outputs": [],
   "execution_count": 74
  },
  {
   "metadata": {},
   "cell_type": "markdown",
   "source": "### Calculate sampled dataset statistics",
   "id": "c1fbca8399a376b4"
  },
  {
   "metadata": {
    "ExecuteTime": {
     "end_time": "2024-11-19T13:52:18.661427Z",
     "start_time": "2024-11-19T13:52:18.658649Z"
    }
   },
   "cell_type": "code",
   "source": [
    "statistics_sampled = {\n",
    "    \"language\": {\n",
    "        \"de\": (final_sampled_irids[\"language\"] == \"de\").sum() / len(final_sampled_irids),\n",
    "        \"fr\": (final_sampled_irids[\"language\"] == \"fr\").sum() / len(final_sampled_irids),\n",
    "        None: (final_sampled_irids[\"language\"].isna()).sum() / len(final_sampled_irids),\n",
    "    },\n",
    "    \"provider\": {\n",
    "        \"autoidat\": (final_sampled_irids[\"provider\"] == \"autoidat\").sum() / len(final_sampled_irids),\n",
    "        \"audatex\": (final_sampled_irids[\"provider\"] == \"audatex\").sum() / len(final_sampled_irids),\n",
    "        \"other\": ((final_sampled_irids[\"provider\"] != \"audatex\") & (final_sampled_irids[\"provider\"] != \"autoidat\")).sum() / len(final_sampled_irids),\n",
    "    },\n",
    "    \"kva_file_type\": {\n",
    "        \"pdf\": (final_sampled_irids[\"kva_file_type\"] == \"pdf\").sum() / len(final_sampled_irids),\n",
    "        \"xml\": (final_sampled_irids[\"kva_file_type\"] == \"xml\").sum() / len(final_sampled_irids),\n",
    "        \"other\": (final_sampled_irids[\"kva_file_type\"] == \"unknown\").sum() / len(final_sampled_irids),\n",
    "    }\n",
    "}"
   ],
   "id": "29211ac5cdfd764f",
   "outputs": [],
   "execution_count": 75
  }
 ],
 "metadata": {
  "kernelspec": {
   "display_name": "Python 3",
   "language": "python",
   "name": "python3"
  },
  "language_info": {
   "codemirror_mode": {
    "name": "ipython",
    "version": 2
   },
   "file_extension": ".py",
   "mimetype": "text/x-python",
   "name": "python",
   "nbconvert_exporter": "python",
   "pygments_lexer": "ipython2",
   "version": "2.7.6"
  }
 },
 "nbformat": 4,
 "nbformat_minor": 5
}
