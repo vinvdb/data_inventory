{
 "cells": [
  {
   "cell_type": "code",
   "id": "initial_id",
   "metadata": {
    "ExecuteTime": {
     "end_time": "2024-11-29T12:34:21.166759Z",
     "start_time": "2024-11-29T12:34:12.232543Z"
    }
   },
   "source": [
    "import warnings\n",
    "import os\n",
    "from pathlib import Path\n",
    "from datetime import date, datetime\n",
    "from random import sample\n",
    "from typing import final\n",
    "from zoneinfo import ZoneInfo\n",
    "import numpy as np\n",
    "import pandas as pd\n",
    "import json\n",
    "\n",
    "from google.cloud.bigquery.client import Client as BigQueryClient\n",
    "from google.cloud.storage.client import Client as StorageClient\n",
    "\n",
    "from utils import *\n",
    "\n",
    "warnings.filterwarnings(\"ignore\", category=UserWarning)\n",
    "\n",
    "big_query_client = BigQueryClient()\n",
    "storage_client = StorageClient()\n"
   ],
   "outputs": [],
   "execution_count": 1
  },
  {
   "cell_type": "code",
   "id": "52c1345f30a2cbba",
   "metadata": {
    "ExecuteTime": {
     "end_time": "2024-11-29T11:55:39.507860Z",
     "start_time": "2024-11-29T11:55:39.504442Z"
    }
   },
   "source": [
    "n_samples = 100\n",
    "seed = 0\n",
    "# For our sample date, we take the date halfway between the\n",
    "# two latest expert sample dates to ensure separation and currency\n",
    "subsystem_sample_date = date(2024, 10, 23)\n",
    "\n",
    "\n",
    "expert_sample_dates = [\n",
    "    (2024, 6, 4),\n",
    "    (2024, 6, 10),\n",
    "    (2024, 7, 4),\n",
    "    (2024, 7, 8),\n",
    "    (2024, 7, 15),\n",
    "    (2024, 8, 16),\n",
    "    (2024, 8, 17),\n",
    "    (2024, 8, 18),\n",
    "    (2024, 8, 19),\n",
    "    (2024, 9, 9),\n",
    "    (2024, 9, 16),\n",
    "    (2024, 9, 23),\n",
    "    (2024, 9, 26),\n",
    "    (2024, 10, 17),\n",
    "    (2024, 10, 29),\n",
    "]\n",
    "\n",
    "expert_sample_dates = [date(*sample_date) for sample_date in expert_sample_dates]\n",
    "\n"
   ],
   "outputs": [],
   "execution_count": 2
  },
  {
   "cell_type": "markdown",
   "id": "ec2cd49ef6e8190",
   "metadata": {},
   "source": [
    "### Get all irids on subsystem sample date"
   ]
  },
  {
   "cell_type": "markdown",
   "id": "9e37bda33efcf652",
   "metadata": {},
   "source": [
    "### Add case id to each irid"
   ]
  },
  {
   "cell_type": "code",
   "id": "4f33f0b17a63e7b8",
   "metadata": {
    "ExecuteTime": {
     "end_time": "2024-11-29T11:56:37.040511Z",
     "start_time": "2024-11-29T11:55:39.653938Z"
    }
   },
   "source": [
    "# Get irid-to-case-id table\n",
    "case_to_irid_query = f\"\"\"\n",
    "        SELECT DISTINCT\n",
    "            app_case.id AS case_id,\n",
    "            attachment.informationRequestId AS request_id,\n",
    "            attachment.filename AS image_file_name\n",
    "        FROM `noimos-data-lake-exp.prod.int_app_attachment` AS attachment\n",
    "        INNER JOIN `noimos-data-lake-exp.prod.int_app_case` AS app_case\n",
    "        ON attachment.informationrequestid = app_case.defaultinformationrequestid \n",
    "        WHERE NOT ENDS_WITH(attachment.filename, \".pdf\") AND NOT ENDS_WITH(attachment.filename, \".xml\");\n",
    "\"\"\"\n",
    "\n",
    "case_to_irid_table = query_bigquery(query=case_to_irid_query, big_query_client=big_query_client)\n",
    "case_to_irid_table = case_to_irid_table[[\"case_id\", \"request_id\"]].drop_duplicates()\n",
    "\n"
   ],
   "outputs": [],
   "execution_count": 3
  },
  {
   "cell_type": "code",
   "id": "eee574c8da953b74",
   "metadata": {
    "ExecuteTime": {
     "end_time": "2024-11-29T11:56:40.051029Z",
     "start_time": "2024-11-29T11:56:37.055744Z"
    }
   },
   "source": [
    "irids_by_date = query_bigquery(\n",
    "    big_query_client=big_query_client,\n",
    "    query=\"SELECT informationRequestId, timestamp FROM `noimos-core-axach-prod.mod.workflow_output`\"\n",
    ")\n",
    "\n",
    "timezone = ZoneInfo('UTC')\n",
    "start_of_day = datetime.combine(subsystem_sample_date, datetime.min.time()).replace(tzinfo=timezone)\n",
    "end_of_day = datetime.combine(subsystem_sample_date, datetime.max.time()).replace(tzinfo=timezone)\n",
    "irids_on_subsystem_sample_date = irids_by_date[(irids_by_date['timestamp'] >= start_of_day) & (irids_by_date['timestamp'] <= end_of_day)]\n",
    "\n",
    "# Join case id info to sampled irids\n",
    "sampled_irids = pd.merge(irids_on_subsystem_sample_date, case_to_irid_table, left_on=\"informationRequestId\", right_on=\"request_id\", how=\"inner\")\n",
    "sampled_irids = sampled_irids[[\"informationRequestId\", \"timestamp\", \"case_id\"]]\n"
   ],
   "outputs": [],
   "execution_count": 4
  },
  {
   "cell_type": "markdown",
   "id": "8f2da6b220dafe03",
   "metadata": {},
   "source": [
    "# Blacklisting"
   ]
  },
  {
   "cell_type": "code",
   "id": "f3d787a213635a55",
   "metadata": {
    "ExecuteTime": {
     "end_time": "2024-11-29T11:56:40.058678Z",
     "start_time": "2024-11-29T11:56:40.056811Z"
    }
   },
   "source": [
    "blacklist_irids = pd.DataFrame(columns=[\"informationRequestId\", \"timestamp\"])"
   ],
   "outputs": [],
   "execution_count": 5
  },
  {
   "cell_type": "markdown",
   "id": "b6d071d15eea39b0",
   "metadata": {},
   "source": [
    "### Get case ids on expert sample dates for blacklisting"
   ]
  },
  {
   "cell_type": "code",
   "id": "8f357c1dbfb1a8bb",
   "metadata": {
    "ExecuteTime": {
     "end_time": "2024-11-29T11:56:40.077302Z",
     "start_time": "2024-11-29T11:56:40.069834Z"
    }
   },
   "source": [
    "for date in expert_sample_dates:\n",
    "    start_of_day = datetime.combine(date, datetime.min.time()).replace(tzinfo=timezone)\n",
    "    end_of_day = datetime.combine(date, datetime.max.time()).replace(tzinfo=timezone)\n",
    "    irids_on_date = irids_by_date[(irids_by_date['timestamp'] >= start_of_day) & (irids_by_date['timestamp'] <= end_of_day)]\n",
    "    blacklist_irids = pd.concat([blacklist_irids, irids_on_date], axis=0)"
   ],
   "outputs": [
    {
     "name": "stderr",
     "output_type": "stream",
     "text": [
      "/var/folders/w0/8zlmx1n52wd7_p8tby7fk43m0000gn/T/ipykernel_31724/2339720872.py:5: FutureWarning: The behavior of DataFrame concatenation with empty or all-NA entries is deprecated. In a future version, this will no longer exclude empty or all-NA columns when determining the result dtypes. To retain the old behavior, exclude the relevant entries before the concat operation.\n",
      "  blacklist_irids = pd.concat([blacklist_irids, irids_on_date], axis=0)\n"
     ]
    }
   ],
   "execution_count": 6
  },
  {
   "cell_type": "markdown",
   "id": "aa7c418f3fba75c1",
   "metadata": {},
   "source": [
    "### Get case ids on mod_gt for blacklisting"
   ]
  },
  {
   "cell_type": "code",
   "id": "a3bc3673de8bb668",
   "metadata": {
    "ExecuteTime": {
     "end_time": "2024-11-29T11:56:40.089173Z",
     "start_time": "2024-11-29T11:56:40.087968Z"
    }
   },
   "source": [],
   "outputs": [],
   "execution_count": null
  },
  {
   "cell_type": "markdown",
   "id": "19034a83cea575b2",
   "metadata": {},
   "source": [
    "### Get case ids on mod_train/mod_test for black listing"
   ]
  },
  {
   "cell_type": "code",
   "id": "233f51832847e272",
   "metadata": {
    "ExecuteTime": {
     "end_time": "2024-11-29T11:56:43.274372Z",
     "start_time": "2024-11-29T11:56:40.093754Z"
    }
   },
   "source": [
    "# Get mod_train irids\n",
    "mod_train_version = \"0.7.0\"\n",
    "\n",
    "query = f\"\"\"\n",
    "    SELECT\n",
    "        *\n",
    "    FROM\n",
    "        `noimos-core-axach-development.mod.train` AS train\n",
    "\"\"\"\n",
    "\n",
    "query_job = big_query_client.query(query)\n",
    "mod_train_table = query_job.to_dataframe()\n",
    "\n",
    "mod_train_irids = mod_train_table[mod_train_table[\"version\"] == mod_train_version][\"informationRequestId\"].unique()\n",
    "\n",
    "# Get mod_test irids\n",
    "mod_test_version = \"0.7.0\"\n",
    "\n",
    "query = f\"\"\"\n",
    "    SELECT\n",
    "        *\n",
    "    FROM\n",
    "        `noimos-core-axach-development.mod.test` AS test\n",
    "\"\"\"\n",
    "\n",
    "query_job = big_query_client.query(query)\n",
    "mod_test_table = query_job.to_dataframe()\n",
    "\n",
    "mod_test_irids = mod_test_table[mod_test_table[\"version\"] == mod_test_version][\"informationRequestId\"].unique()\n",
    "\n",
    "mod_train_test_irids = np.concatenate((mod_train_irids, mod_test_irids))\n",
    "mod_train_test_irids = pd.DataFrame({\"informationRequestId\": mod_train_test_irids, \"timestamp\": [np.nan] * len(mod_train_test_irids)})\n",
    "\n",
    "blacklist_irids = pd.concat([blacklist_irids, mod_train_test_irids], axis=0)\n",
    "\n",
    "pass"
   ],
   "outputs": [
    {
     "name": "stderr",
     "output_type": "stream",
     "text": [
      "/var/folders/w0/8zlmx1n52wd7_p8tby7fk43m0000gn/T/ipykernel_31724/2250310055.py:34: FutureWarning: The behavior of DataFrame concatenation with empty or all-NA entries is deprecated. In a future version, this will no longer exclude empty or all-NA columns when determining the result dtypes. To retain the old behavior, exclude the relevant entries before the concat operation.\n",
      "  blacklist_irids = pd.concat([blacklist_irids, mod_train_test_irids], axis=0)\n"
     ]
    }
   ],
   "execution_count": 7
  },
  {
   "cell_type": "code",
   "id": "382f3c5573273bc2",
   "metadata": {
    "ExecuteTime": {
     "end_time": "2024-11-29T11:56:43.298547Z",
     "start_time": "2024-11-29T11:56:43.295881Z"
    }
   },
   "source": [
    "\"\"\"mod_train_test_irids[\"on_expert_sample_date\"] = None\n",
    "\n",
    "for irid in mod_train_test_irids[\"informationRequestId\"]:\n",
    "    mod_train_test_irids[\"on_expert_sample_date\"] = irid in blacklist_irids[\"informationRequestId\"]\n",
    "    \n",
    "pass\"\"\""
   ],
   "outputs": [
    {
     "data": {
      "text/plain": [
       "'mod_train_test_irids[\"on_expert_sample_date\"] = None\\n\\nfor irid in mod_train_test_irids[\"informationRequestId\"]:\\n    mod_train_test_irids[\"on_expert_sample_date\"] = irid in blacklist_irids[\"informationRequestId\"]\\n    \\npass'"
      ]
     },
     "execution_count": 8,
     "metadata": {},
     "output_type": "execute_result"
    }
   ],
   "execution_count": 8
  },
  {
   "cell_type": "code",
   "id": "bc6a3503bc6375e5",
   "metadata": {
    "ExecuteTime": {
     "end_time": "2024-11-29T11:56:43.310954Z",
     "start_time": "2024-11-29T11:56:43.302099Z"
    }
   },
   "source": [
    "# Add case id to blacklist irids\n",
    "blacklist_irids = pd.merge(blacklist_irids, case_to_irid_table, how=\"left\", left_on=\"informationRequestId\", right_on=\"request_id\")\n",
    "blacklist_irids = blacklist_irids[[\"informationRequestId\", \"timestamp\", \"case_id\"]]"
   ],
   "outputs": [],
   "execution_count": 9
  },
  {
   "cell_type": "code",
   "id": "8ea43cbcfd9829b1",
   "metadata": {
    "ExecuteTime": {
     "end_time": "2024-11-29T11:56:43.345639Z",
     "start_time": "2024-11-29T11:56:43.320513Z"
    }
   },
   "source": [
    "sampled_irids[\"case_blacklisted\"] = None\n",
    "for i, row in sampled_irids.iterrows():\n",
    "    sampled_irids.loc[i, \"case_blacklisted\"] = row[\"case_blacklisted\"] in blacklist_irids[\"case_id\"]\n",
    "    \n",
    "pass"
   ],
   "outputs": [],
   "execution_count": 10
  },
  {
   "cell_type": "code",
   "id": "1e813c36e1d40867",
   "metadata": {
    "ExecuteTime": {
     "end_time": "2024-11-29T11:56:43.356456Z",
     "start_time": "2024-11-29T11:56:43.354861Z"
    }
   },
   "source": [
    "sampled_irids = sampled_irids.sort_values(by=\"timestamp\", ascending=True)\n"
   ],
   "outputs": [],
   "execution_count": 11
  },
  {
   "cell_type": "markdown",
   "id": "c571519e17e3843",
   "metadata": {},
   "source": [
    "### Get heuristic/llm/xml, language, kva provider"
   ]
  },
  {
   "cell_type": "code",
   "id": "22959fdcbddbf68d",
   "metadata": {
    "ExecuteTime": {
     "end_time": "2024-11-29T11:56:52.324937Z",
     "start_time": "2024-11-29T11:56:43.365805Z"
    }
   },
   "source": [
    "line_item_query = f\"\"\"\n",
    "    SELECT DISTINCT\n",
    "        informationRequestId, kva.language, kva.provider\n",
    "    FROM\n",
    "      `noimos-core-axach-prod.mod.line_item_classification`,\n",
    "      UNNEST(classifiedKva) as kva\n",
    "\"\"\"\n",
    "\n",
    "line_item_table = query_bigquery(query=line_item_query, big_query_client=big_query_client)\n",
    "\n",
    "kva_query = f\"\"\"\n",
    "    SELECT informationRequestId, sourceFilePath FROM `noimos-core-axach-prod.mod.kva`\n",
    "\"\"\"\n",
    "\n",
    "kva_table = query_bigquery(query=kva_query, big_query_client=big_query_client)\n",
    "\n",
    "workflow_output_query = f\"\"\"\n",
    "    SELECT informationRequestId, llmPath FROM `noimos-core-axach-prod.mod.workflow_output`\n",
    "\"\"\"\n",
    "\n",
    "workflow_output_table = query_bigquery(query=workflow_output_query, big_query_client=big_query_client)\n",
    "\n",
    "def get_file_type(filename):\n",
    "    if filename.endswith('.pdf'):\n",
    "        return 'pdf'\n",
    "    elif filename.endswith('.xml'):\n",
    "        return 'xml'\n",
    "    else:\n",
    "        return 'unknown'\n",
    "\n",
    "kva_table[\"kva_file_type\"] = kva_table['sourceFilePath'].apply(get_file_type)\n",
    "\n",
    "sampled_irids = pd.merge(left=sampled_irids, right=line_item_table, on=\"informationRequestId\", how=\"left\")\n",
    "sampled_irids = pd.merge(left=sampled_irids, right=workflow_output_table, on=\"informationRequestId\", how=\"left\")\n",
    "sampled_irids = pd.merge(left=sampled_irids, right=kva_table, on=\"informationRequestId\", how=\"left\")\n"
   ],
   "outputs": [],
   "execution_count": 12
  },
  {
   "cell_type": "markdown",
   "id": "fd8dd0dc7fca4e99",
   "metadata": {},
   "source": [
    "### Sample"
   ]
  },
  {
   "cell_type": "code",
   "id": "8f9af60aacf6aaf",
   "metadata": {
    "ExecuteTime": {
     "end_time": "2024-11-29T11:56:52.338392Z",
     "start_time": "2024-11-29T11:56:52.336002Z"
    }
   },
   "source": [
    "sampled_irids = sampled_irids[sampled_irids[\"case_blacklisted\"] == False]\n",
    "sampled_irids = sampled_irids.drop_duplicates(subset=\"case_id\", keep=\"first\")\n",
    "final_sampled_irids = sampled_irids.sample(n=n_samples, random_state=1)"
   ],
   "outputs": [],
   "execution_count": 13
  },
  {
   "cell_type": "markdown",
   "id": "d8207edfd918b1d1",
   "metadata": {},
   "source": [
    "### Get llm path info for sampled irids"
   ]
  },
  {
   "cell_type": "code",
   "id": "862bbb2cf0e3cdab",
   "metadata": {
    "ExecuteTime": {
     "end_time": "2024-11-29T11:57:03.370448Z",
     "start_time": "2024-11-29T11:56:52.349676Z"
    }
   },
   "source": [
    "final_sampled_irids[\"llm_path\"] = None\n",
    "\n",
    "bucket = storage_client.bucket(\"noimos-core-axach-prod-axa-ch-api-responses\")\n",
    "\n",
    "\n",
    "\n",
    "\n",
    "for i, row in final_sampled_irids.iterrows():\n",
    "    irid = row[\"informationRequestId\"]\n",
    "    source_blob_name = Path(\"mod_workflow/kva_service_response\") / f\"{irid}.json\"\n",
    "    blob = bucket.blob(str(source_blob_name))\n",
    "    data = json.loads(blob_bytes) if (blob_bytes := blob.download_as_bytes()) else {}\n",
    "    try:\n",
    "        final_sampled_irids.loc[final_sampled_irids[\"informationRequestId\"] == irid, \"llm_path\"] = data[\"llmExtraction\"]\n",
    "    except:\n",
    "        final_sampled_irids.loc[final_sampled_irids[\"informationRequestId\"] == irid, \"llm_path\"] = \"unknown\"\n",
    "    pass"
   ],
   "outputs": [],
   "execution_count": 14
  },
  {
   "cell_type": "code",
   "id": "7cd96d51-20bc-465d-aa8f-347766fd9896",
   "metadata": {
    "ExecuteTime": {
     "end_time": "2024-11-29T11:57:03.414043Z",
     "start_time": "2024-11-29T11:57:03.397943Z"
    }
   },
   "source": [
    "final_sampled_irids.to_csv(\"/Users/vincent.vanderbrugge/code/data_inventory/final_irids.csv\", index=False)"
   ],
   "outputs": [],
   "execution_count": 15
  },
  {
   "cell_type": "markdown",
   "id": "ada72a34eb75041c",
   "metadata": {},
   "source": [
    "### Calculate global dataset statistics"
   ]
  },
  {
   "cell_type": "code",
   "id": "d1b5cefc6bdf8491",
   "metadata": {
    "ExecuteTime": {
     "end_time": "2024-11-29T11:57:03.445618Z",
     "start_time": "2024-11-29T11:57:03.431600Z"
    }
   },
   "source": [
    "statistics_global = {\n",
    "    \"language\": {\n",
    "        \"de\": (line_item_table[\"language\"] == \"de\").sum() / len(line_item_table),\n",
    "        \"fr\": (line_item_table[\"language\"] == \"fr\").sum() / len(line_item_table),\n",
    "        None: (line_item_table[\"language\"].isna()).sum() / len(line_item_table),\n",
    "    },\n",
    "    \"provider\": {\n",
    "        \"autoidat\": (line_item_table[\"provider\"] == \"autoidat\").sum() / len(line_item_table),\n",
    "        \"audatex\": (line_item_table[\"provider\"] == \"audatex\").sum() / len(line_item_table),\n",
    "        \"other\": ((line_item_table[\"provider\"] != \"audatex\") & (line_item_table[\"provider\"] != \"autoidat\")).sum() / len(line_item_table),\n",
    "    },\n",
    "    \"kva_file_type\": {\n",
    "        \"pdf\": (kva_table[\"kva_file_type\"] == \"pdf\").sum() / len(kva_table),\n",
    "        \"xml\": (kva_table[\"kva_file_type\"] == \"xml\").sum() / len(kva_table),\n",
    "        \"other\": (kva_table[\"kva_file_type\"] == \"unknown\").sum() / len(kva_table),\n",
    "    }\n",
    "}"
   ],
   "outputs": [],
   "execution_count": 16
  },
  {
   "cell_type": "markdown",
   "id": "c1fbca8399a376b4",
   "metadata": {},
   "source": [
    "### Calculate sampled dataset statistics"
   ]
  },
  {
   "cell_type": "code",
   "id": "29211ac5cdfd764f",
   "metadata": {
    "ExecuteTime": {
     "end_time": "2024-11-29T11:57:03.463998Z",
     "start_time": "2024-11-29T11:57:03.460201Z"
    }
   },
   "source": [
    "statistics_sampled = {\n",
    "    \"language\": {\n",
    "        \"de\": (final_sampled_irids[\"language\"] == \"de\").sum() / len(final_sampled_irids),\n",
    "        \"fr\": (final_sampled_irids[\"language\"] == \"fr\").sum() / len(final_sampled_irids),\n",
    "        None: (final_sampled_irids[\"language\"].isna()).sum() / len(final_sampled_irids),\n",
    "    },\n",
    "    \"provider\": {\n",
    "        \"autoidat\": (final_sampled_irids[\"provider\"] == \"autoidat\").sum() / len(final_sampled_irids),\n",
    "        \"audatex\": (final_sampled_irids[\"provider\"] == \"audatex\").sum() / len(final_sampled_irids),\n",
    "        \"other\": ((final_sampled_irids[\"provider\"] != \"audatex\") & (final_sampled_irids[\"provider\"] != \"autoidat\")).sum() / len(final_sampled_irids),\n",
    "    },\n",
    "    \"kva_file_type\": {\n",
    "        \"pdf\": (final_sampled_irids[\"kva_file_type\"] == \"pdf\").sum() / len(final_sampled_irids),\n",
    "        \"xml\": (final_sampled_irids[\"kva_file_type\"] == \"xml\").sum() / len(final_sampled_irids),\n",
    "        \"other\": (final_sampled_irids[\"kva_file_type\"] == \"unknown\").sum() / len(final_sampled_irids),\n",
    "    },\n",
    "    \"kva_processing_type\": {\n",
    "        \"pdf heuristic\": ((final_sampled_irids[\"kva_file_type\"] == \"pdf\") & (final_sampled_irids[\"llm_path\"] == False)).sum() / len(final_sampled_irids),\n",
    "        \"pdf llm\": ((final_sampled_irids[\"kva_file_type\"] == \"pdf\") & (final_sampled_irids[\"llm_path\"] == True)).sum() / len(final_sampled_irids),\n",
    "        \"xml\": (final_sampled_irids[\"kva_file_type\"] == \"xml\").sum() / len(final_sampled_irids),\n",
    "    }\n",
    "}\n",
    "\n",
    "statistics_sampled[\"kva_processing_type\"][\"other\"]  = 1 - statistics_sampled[\"kva_processing_type\"][\"pdf heuristic\"] - statistics_sampled[\"kva_processing_type\"][\"pdf llm\"] - statistics_sampled[\"kva_processing_type\"][\"xml\"]"
   ],
   "outputs": [],
   "execution_count": 17
  },
  {
   "cell_type": "code",
   "id": "7e49251989e2340f",
   "metadata": {
    "ExecuteTime": {
     "end_time": "2024-11-29T11:57:03.501970Z",
     "start_time": "2024-11-29T11:57:03.490097Z"
    }
   },
   "source": [
    "final_sampled_irids[[\"language\", \"provider\", \"llmPath\"]].drop_duplicates()"
   ],
   "outputs": [
    {
     "data": {
      "text/plain": [
       "    language  provider  llmPath\n",
       "405     None      None     <NA>\n",
       "17        de   audatex     <NA>\n",
       "4         de  autoidat     <NA>\n",
       "362       fr  autoidat     <NA>\n",
       "5         fr   audatex     <NA>"
      ],
      "text/html": [
       "<div>\n",
       "<style scoped>\n",
       "    .dataframe tbody tr th:only-of-type {\n",
       "        vertical-align: middle;\n",
       "    }\n",
       "\n",
       "    .dataframe tbody tr th {\n",
       "        vertical-align: top;\n",
       "    }\n",
       "\n",
       "    .dataframe thead th {\n",
       "        text-align: right;\n",
       "    }\n",
       "</style>\n",
       "<table border=\"1\" class=\"dataframe\">\n",
       "  <thead>\n",
       "    <tr style=\"text-align: right;\">\n",
       "      <th></th>\n",
       "      <th>language</th>\n",
       "      <th>provider</th>\n",
       "      <th>llmPath</th>\n",
       "    </tr>\n",
       "  </thead>\n",
       "  <tbody>\n",
       "    <tr>\n",
       "      <th>405</th>\n",
       "      <td>None</td>\n",
       "      <td>None</td>\n",
       "      <td>&lt;NA&gt;</td>\n",
       "    </tr>\n",
       "    <tr>\n",
       "      <th>17</th>\n",
       "      <td>de</td>\n",
       "      <td>audatex</td>\n",
       "      <td>&lt;NA&gt;</td>\n",
       "    </tr>\n",
       "    <tr>\n",
       "      <th>4</th>\n",
       "      <td>de</td>\n",
       "      <td>autoidat</td>\n",
       "      <td>&lt;NA&gt;</td>\n",
       "    </tr>\n",
       "    <tr>\n",
       "      <th>362</th>\n",
       "      <td>fr</td>\n",
       "      <td>autoidat</td>\n",
       "      <td>&lt;NA&gt;</td>\n",
       "    </tr>\n",
       "    <tr>\n",
       "      <th>5</th>\n",
       "      <td>fr</td>\n",
       "      <td>audatex</td>\n",
       "      <td>&lt;NA&gt;</td>\n",
       "    </tr>\n",
       "  </tbody>\n",
       "</table>\n",
       "</div>"
      ]
     },
     "execution_count": 18,
     "metadata": {},
     "output_type": "execute_result"
    }
   ],
   "execution_count": 18
  },
  {
   "cell_type": "code",
   "id": "b1c3701363742294",
   "metadata": {
    "ExecuteTime": {
     "end_time": "2024-11-29T11:57:03.560900Z",
     "start_time": "2024-11-29T11:57:03.556746Z"
    }
   },
   "source": [
    "final_sampled_irids.drop(\"llmPath\", axis=1)"
   ],
   "outputs": [
    {
     "data": {
      "text/plain": [
       "      informationRequestId                        timestamp  \\\n",
       "405  66ojbdcWKzbrPlBCB1Qfa 2024-10-23 15:50:41.003746+00:00   \n",
       "292  YHuntQPrT2X-iJIb3cSuA 2024-10-23 12:53:22.179526+00:00   \n",
       "17   eHVQuhuJbZTm7DALY8Xrr 2024-10-23 05:36:46.857066+00:00   \n",
       "305  g_J9k9a30_6FKfQUJ2Bfa 2024-10-23 13:04:42.727080+00:00   \n",
       "4    REejKSTTXyY5-XnBhvdWZ 2024-10-23 04:47:34.687633+00:00   \n",
       "..                     ...                              ...   \n",
       "93   oLSjEn4cPviUzcXJfQiPd 2024-10-23 07:12:42.621851+00:00   \n",
       "173  BvBGcT_5Wo0nUM5CkEJ4m 2024-10-23 09:11:11.426911+00:00   \n",
       "350  7CHt3_5GtQNwmMvfc2Ido 2024-10-23 14:07:27.693092+00:00   \n",
       "41   iV0ZtQGeUVfEWXwhJG6y- 2024-10-23 06:08:51.077514+00:00   \n",
       "165  sliA7R3kpvx2sSJkJRr0K 2024-10-23 09:03:06.124418+00:00   \n",
       "\n",
       "                   case_id case_blacklisted language  provider  \\\n",
       "405  ewuaLKH5uuQFQD_SaEx-C            False     None      None   \n",
       "292  fHi3K2HtnO9UKSJo7hOCL            False     None      None   \n",
       "17   B3a9x7yzELzj-xPMsqmXk            False       de   audatex   \n",
       "305  qNgkCYXcJHxTqmh3ecrNc            False       de   audatex   \n",
       "4    mo1EsGc2PfdALkNCPKr6F            False       de  autoidat   \n",
       "..                     ...              ...      ...       ...   \n",
       "93   vG6Y-Fyhfj7I9f-7Cc6Re            False       de   audatex   \n",
       "173  qaeqEYeA2DZJN14PnSuO3            False      NaN       NaN   \n",
       "350  lF1X-Uc7kmqwGeRz9OAC5            False     None      None   \n",
       "41   OZ96ZwDjxMP-Z_lm_0Jjh            False       de   audatex   \n",
       "165  qbUHTJih71qdKERjcW59j            False     None      None   \n",
       "\n",
       "                sourceFilePath kva_file_type llm_path  \n",
       "405  yyevjZW6j6dfdSV9cS7Fk.pdf           pdf     True  \n",
       "292  BuMllnzsxRbpi6qiM7Syu.pdf           pdf     True  \n",
       "17   fJP6lBl9XVuPZedwVCq2F.pdf           pdf    False  \n",
       "305  V7YP5uraMaAhODowhVoPy.xml           xml    False  \n",
       "4    XiD7w_9eEWhy51eAM57TB.pdf           pdf    False  \n",
       "..                         ...           ...      ...  \n",
       "93   mRrWmSKSgc17smRctgONR.pdf           pdf    False  \n",
       "173  y3Cr7pieCXfrzp6C1itWs.pdf           pdf     True  \n",
       "350  Om-aO38OYVwjNDMeNynqc.pdf           pdf     True  \n",
       "41   IWshmzjFp_IGMw_D6Q3pO.xml           xml    False  \n",
       "165  30bDude-GTv_nG-bgcuai.pdf           pdf     True  \n",
       "\n",
       "[100 rows x 9 columns]"
      ],
      "text/html": [
       "<div>\n",
       "<style scoped>\n",
       "    .dataframe tbody tr th:only-of-type {\n",
       "        vertical-align: middle;\n",
       "    }\n",
       "\n",
       "    .dataframe tbody tr th {\n",
       "        vertical-align: top;\n",
       "    }\n",
       "\n",
       "    .dataframe thead th {\n",
       "        text-align: right;\n",
       "    }\n",
       "</style>\n",
       "<table border=\"1\" class=\"dataframe\">\n",
       "  <thead>\n",
       "    <tr style=\"text-align: right;\">\n",
       "      <th></th>\n",
       "      <th>informationRequestId</th>\n",
       "      <th>timestamp</th>\n",
       "      <th>case_id</th>\n",
       "      <th>case_blacklisted</th>\n",
       "      <th>language</th>\n",
       "      <th>provider</th>\n",
       "      <th>sourceFilePath</th>\n",
       "      <th>kva_file_type</th>\n",
       "      <th>llm_path</th>\n",
       "    </tr>\n",
       "  </thead>\n",
       "  <tbody>\n",
       "    <tr>\n",
       "      <th>405</th>\n",
       "      <td>66ojbdcWKzbrPlBCB1Qfa</td>\n",
       "      <td>2024-10-23 15:50:41.003746+00:00</td>\n",
       "      <td>ewuaLKH5uuQFQD_SaEx-C</td>\n",
       "      <td>False</td>\n",
       "      <td>None</td>\n",
       "      <td>None</td>\n",
       "      <td>yyevjZW6j6dfdSV9cS7Fk.pdf</td>\n",
       "      <td>pdf</td>\n",
       "      <td>True</td>\n",
       "    </tr>\n",
       "    <tr>\n",
       "      <th>292</th>\n",
       "      <td>YHuntQPrT2X-iJIb3cSuA</td>\n",
       "      <td>2024-10-23 12:53:22.179526+00:00</td>\n",
       "      <td>fHi3K2HtnO9UKSJo7hOCL</td>\n",
       "      <td>False</td>\n",
       "      <td>None</td>\n",
       "      <td>None</td>\n",
       "      <td>BuMllnzsxRbpi6qiM7Syu.pdf</td>\n",
       "      <td>pdf</td>\n",
       "      <td>True</td>\n",
       "    </tr>\n",
       "    <tr>\n",
       "      <th>17</th>\n",
       "      <td>eHVQuhuJbZTm7DALY8Xrr</td>\n",
       "      <td>2024-10-23 05:36:46.857066+00:00</td>\n",
       "      <td>B3a9x7yzELzj-xPMsqmXk</td>\n",
       "      <td>False</td>\n",
       "      <td>de</td>\n",
       "      <td>audatex</td>\n",
       "      <td>fJP6lBl9XVuPZedwVCq2F.pdf</td>\n",
       "      <td>pdf</td>\n",
       "      <td>False</td>\n",
       "    </tr>\n",
       "    <tr>\n",
       "      <th>305</th>\n",
       "      <td>g_J9k9a30_6FKfQUJ2Bfa</td>\n",
       "      <td>2024-10-23 13:04:42.727080+00:00</td>\n",
       "      <td>qNgkCYXcJHxTqmh3ecrNc</td>\n",
       "      <td>False</td>\n",
       "      <td>de</td>\n",
       "      <td>audatex</td>\n",
       "      <td>V7YP5uraMaAhODowhVoPy.xml</td>\n",
       "      <td>xml</td>\n",
       "      <td>False</td>\n",
       "    </tr>\n",
       "    <tr>\n",
       "      <th>4</th>\n",
       "      <td>REejKSTTXyY5-XnBhvdWZ</td>\n",
       "      <td>2024-10-23 04:47:34.687633+00:00</td>\n",
       "      <td>mo1EsGc2PfdALkNCPKr6F</td>\n",
       "      <td>False</td>\n",
       "      <td>de</td>\n",
       "      <td>autoidat</td>\n",
       "      <td>XiD7w_9eEWhy51eAM57TB.pdf</td>\n",
       "      <td>pdf</td>\n",
       "      <td>False</td>\n",
       "    </tr>\n",
       "    <tr>\n",
       "      <th>...</th>\n",
       "      <td>...</td>\n",
       "      <td>...</td>\n",
       "      <td>...</td>\n",
       "      <td>...</td>\n",
       "      <td>...</td>\n",
       "      <td>...</td>\n",
       "      <td>...</td>\n",
       "      <td>...</td>\n",
       "      <td>...</td>\n",
       "    </tr>\n",
       "    <tr>\n",
       "      <th>93</th>\n",
       "      <td>oLSjEn4cPviUzcXJfQiPd</td>\n",
       "      <td>2024-10-23 07:12:42.621851+00:00</td>\n",
       "      <td>vG6Y-Fyhfj7I9f-7Cc6Re</td>\n",
       "      <td>False</td>\n",
       "      <td>de</td>\n",
       "      <td>audatex</td>\n",
       "      <td>mRrWmSKSgc17smRctgONR.pdf</td>\n",
       "      <td>pdf</td>\n",
       "      <td>False</td>\n",
       "    </tr>\n",
       "    <tr>\n",
       "      <th>173</th>\n",
       "      <td>BvBGcT_5Wo0nUM5CkEJ4m</td>\n",
       "      <td>2024-10-23 09:11:11.426911+00:00</td>\n",
       "      <td>qaeqEYeA2DZJN14PnSuO3</td>\n",
       "      <td>False</td>\n",
       "      <td>NaN</td>\n",
       "      <td>NaN</td>\n",
       "      <td>y3Cr7pieCXfrzp6C1itWs.pdf</td>\n",
       "      <td>pdf</td>\n",
       "      <td>True</td>\n",
       "    </tr>\n",
       "    <tr>\n",
       "      <th>350</th>\n",
       "      <td>7CHt3_5GtQNwmMvfc2Ido</td>\n",
       "      <td>2024-10-23 14:07:27.693092+00:00</td>\n",
       "      <td>lF1X-Uc7kmqwGeRz9OAC5</td>\n",
       "      <td>False</td>\n",
       "      <td>None</td>\n",
       "      <td>None</td>\n",
       "      <td>Om-aO38OYVwjNDMeNynqc.pdf</td>\n",
       "      <td>pdf</td>\n",
       "      <td>True</td>\n",
       "    </tr>\n",
       "    <tr>\n",
       "      <th>41</th>\n",
       "      <td>iV0ZtQGeUVfEWXwhJG6y-</td>\n",
       "      <td>2024-10-23 06:08:51.077514+00:00</td>\n",
       "      <td>OZ96ZwDjxMP-Z_lm_0Jjh</td>\n",
       "      <td>False</td>\n",
       "      <td>de</td>\n",
       "      <td>audatex</td>\n",
       "      <td>IWshmzjFp_IGMw_D6Q3pO.xml</td>\n",
       "      <td>xml</td>\n",
       "      <td>False</td>\n",
       "    </tr>\n",
       "    <tr>\n",
       "      <th>165</th>\n",
       "      <td>sliA7R3kpvx2sSJkJRr0K</td>\n",
       "      <td>2024-10-23 09:03:06.124418+00:00</td>\n",
       "      <td>qbUHTJih71qdKERjcW59j</td>\n",
       "      <td>False</td>\n",
       "      <td>None</td>\n",
       "      <td>None</td>\n",
       "      <td>30bDude-GTv_nG-bgcuai.pdf</td>\n",
       "      <td>pdf</td>\n",
       "      <td>True</td>\n",
       "    </tr>\n",
       "  </tbody>\n",
       "</table>\n",
       "<p>100 rows × 9 columns</p>\n",
       "</div>"
      ]
     },
     "execution_count": 19,
     "metadata": {},
     "output_type": "execute_result"
    }
   ],
   "execution_count": 19
  },
  {
   "cell_type": "markdown",
   "id": "32c09829f804fe03",
   "metadata": {},
   "source": [
    "### Download kva's to folder"
   ]
  },
  {
   "cell_type": "code",
   "execution_count": 20,
   "id": "bacdcfb2d166d8ff",
   "metadata": {
    "ExecuteTime": {
     "end_time": "2024-11-29T11:55:33.080994Z",
     "start_time": "2024-11-26T14:02:00.851889Z"
    }
   },
   "outputs": [
    {
     "ename": "KeyboardInterrupt",
     "evalue": "",
     "output_type": "error",
     "traceback": [
      "\u001B[0;31m---------------------------------------------------------------------------\u001B[0m",
      "\u001B[0;31mKeyboardInterrupt\u001B[0m                         Traceback (most recent call last)",
      "Cell \u001B[0;32mIn[20], line 1\u001B[0m\n\u001B[0;32m----> 1\u001B[0m kva_save_dir \u001B[38;5;241m=\u001B[39m \u001B[38;5;124;43m\"\u001B[39;49m\u001B[38;5;124;43m/Users/vincent.vanderbrugge/Documents/subsystem_evaluation/batch1b_kvas_unredacted\u001B[39;49m\u001B[38;5;124;43m\"\u001B[39;49m\n\u001B[1;32m      2\u001B[0m bucket_name \u001B[38;5;241m=\u001B[39m \u001B[38;5;124m\"\u001B[39m\u001B[38;5;124mnoimos-apps-production-noiportal-api-images\u001B[39m\u001B[38;5;124m\"\u001B[39m\n\u001B[1;32m      3\u001B[0m bucket \u001B[38;5;241m=\u001B[39m storage_client\u001B[38;5;241m.\u001B[39mbucket(\u001B[38;5;124m\"\u001B[39m\u001B[38;5;124mnoimos-apps-production-noiportal-api-images\u001B[39m\u001B[38;5;124m\"\u001B[39m)\n",
      "File \u001B[0;32m_pydevd_bundle/pydevd_cython_darwin_311_64.pyx:1187\u001B[0m, in \u001B[0;36m_pydevd_bundle.pydevd_cython_darwin_311_64.SafeCallWrapper.__call__\u001B[0;34m()\u001B[0m\n",
      "File \u001B[0;32m_pydevd_bundle/pydevd_cython_darwin_311_64.pyx:627\u001B[0m, in \u001B[0;36m_pydevd_bundle.pydevd_cython_darwin_311_64.PyDBFrame.trace_dispatch\u001B[0;34m()\u001B[0m\n",
      "File \u001B[0;32m_pydevd_bundle/pydevd_cython_darwin_311_64.pyx:937\u001B[0m, in \u001B[0;36m_pydevd_bundle.pydevd_cython_darwin_311_64.PyDBFrame.trace_dispatch\u001B[0;34m()\u001B[0m\n",
      "File \u001B[0;32m_pydevd_bundle/pydevd_cython_darwin_311_64.pyx:928\u001B[0m, in \u001B[0;36m_pydevd_bundle.pydevd_cython_darwin_311_64.PyDBFrame.trace_dispatch\u001B[0;34m()\u001B[0m\n",
      "File \u001B[0;32m_pydevd_bundle/pydevd_cython_darwin_311_64.pyx:585\u001B[0m, in \u001B[0;36m_pydevd_bundle.pydevd_cython_darwin_311_64.PyDBFrame.do_wait_suspend\u001B[0;34m()\u001B[0m\n",
      "File \u001B[0;32m/Applications/PyCharm 2.app/Contents/plugins/python-ce/helpers/pydev/pydevd.py:1220\u001B[0m, in \u001B[0;36mPyDB.do_wait_suspend\u001B[0;34m(self, thread, frame, event, arg, send_suspend_message, is_unhandled_exception)\u001B[0m\n\u001B[1;32m   1217\u001B[0m         from_this_thread\u001B[38;5;241m.\u001B[39mappend(frame_id)\n\u001B[1;32m   1219\u001B[0m \u001B[38;5;28;01mwith\u001B[39;00m \u001B[38;5;28mself\u001B[39m\u001B[38;5;241m.\u001B[39m_threads_suspended_single_notification\u001B[38;5;241m.\u001B[39mnotify_thread_suspended(thread_id, stop_reason):\n\u001B[0;32m-> 1220\u001B[0m     \u001B[38;5;28;43mself\u001B[39;49m\u001B[38;5;241;43m.\u001B[39;49m\u001B[43m_do_wait_suspend\u001B[49m\u001B[43m(\u001B[49m\u001B[43mthread\u001B[49m\u001B[43m,\u001B[49m\u001B[43m \u001B[49m\u001B[43mframe\u001B[49m\u001B[43m,\u001B[49m\u001B[43m \u001B[49m\u001B[43mevent\u001B[49m\u001B[43m,\u001B[49m\u001B[43m \u001B[49m\u001B[43marg\u001B[49m\u001B[43m,\u001B[49m\u001B[43m \u001B[49m\u001B[43msuspend_type\u001B[49m\u001B[43m,\u001B[49m\u001B[43m \u001B[49m\u001B[43mfrom_this_thread\u001B[49m\u001B[43m)\u001B[49m\n",
      "File \u001B[0;32m/Applications/PyCharm 2.app/Contents/plugins/python-ce/helpers/pydev/pydevd.py:1235\u001B[0m, in \u001B[0;36mPyDB._do_wait_suspend\u001B[0;34m(self, thread, frame, event, arg, suspend_type, from_this_thread)\u001B[0m\n\u001B[1;32m   1232\u001B[0m             \u001B[38;5;28mself\u001B[39m\u001B[38;5;241m.\u001B[39m_call_mpl_hook()\n\u001B[1;32m   1234\u001B[0m         \u001B[38;5;28mself\u001B[39m\u001B[38;5;241m.\u001B[39mprocess_internal_commands()\n\u001B[0;32m-> 1235\u001B[0m         \u001B[43mtime\u001B[49m\u001B[38;5;241;43m.\u001B[39;49m\u001B[43msleep\u001B[49m\u001B[43m(\u001B[49m\u001B[38;5;241;43m0.01\u001B[39;49m\u001B[43m)\u001B[49m\n\u001B[1;32m   1237\u001B[0m \u001B[38;5;28mself\u001B[39m\u001B[38;5;241m.\u001B[39mcancel_async_evaluation(get_current_thread_id(thread), \u001B[38;5;28mstr\u001B[39m(\u001B[38;5;28mid\u001B[39m(frame)))\n\u001B[1;32m   1239\u001B[0m \u001B[38;5;66;03m# process any stepping instructions\u001B[39;00m\n",
      "\u001B[0;31mKeyboardInterrupt\u001B[0m: "
     ]
    }
   ],
   "source": [
    "kva_save_dir = \"/Users/vincent.vanderbrugge/Documents/subsystem_evaluation/batch1b_kvas_unredacted\"\n",
    "bucket_name = \"noimos-apps-production-noiportal-api-images\"\n",
    "bucket = storage_client.bucket(\"noimos-apps-production-noiportal-api-images\")\n",
    "\n",
    "os.makedirs(kva_save_dir, exist_ok=True)\n",
    "\n",
    "for i, row in final_sampled_irids.iterrows():\n",
    "    \n",
    "    os.makedirs(Path(kva_save_dir) / row['informationRequestId'], exist_ok=True)\n",
    "    \n",
    "    source_blob_name = f\"{row['sourceFilePath']}\"\n",
    "    destination_file_name = Path(kva_save_dir) / row['informationRequestId'] / f\"{row['sourceFilePath'][:-4]}_correct_name{row['sourceFilePath'][-4:]}\"\n",
    "\n",
    "    download_blob(bucket_name, source_blob_name, destination_file_name)"
   ]
  },
  {
   "cell_type": "markdown",
   "id": "7202163553c22773",
   "metadata": {},
   "source": [
    "### Create folder structure to save redacted KVAs in"
   ]
  },
  {
   "cell_type": "code",
   "execution_count": 29,
   "id": "9d6c4aa8bc3addbb",
   "metadata": {
    "ExecuteTime": {
     "end_time": "2024-11-25T13:59:37.332908Z",
     "start_time": "2024-11-25T13:59:37.306520Z"
    }
   },
   "outputs": [],
   "source": [
    "redacted_kva_dir = \"/Users/vincent.vanderbrugge/Documents/subsystem_evaluation/batch1_kvas_redacted\"\n",
    "\n",
    "os.makedirs(redacted_kva_dir, exist_ok=True)\n",
    "\n",
    "for i, row in final_sampled_irids.iterrows():\n",
    "    \n",
    "    os.makedirs(Path(redacted_kva_dir) / row['informationRequestId'], exist_ok=True)"
   ]
  }
 ],
 "metadata": {
  "kernelspec": {
   "display_name": "Python 3 (ipykernel)",
   "language": "python",
   "name": "python3"
  },
  "language_info": {
   "codemirror_mode": {
    "name": "ipython",
    "version": 3
   },
   "file_extension": ".py",
   "mimetype": "text/x-python",
   "name": "python",
   "nbconvert_exporter": "python",
   "pygments_lexer": "ipython3",
   "version": "3.11.4"
  }
 },
 "nbformat": 4,
 "nbformat_minor": 5
}
